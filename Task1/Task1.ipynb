{
  "nbformat": 4,
  "nbformat_minor": 0,
  "metadata": {
    "colab": {
      "provenance": []
    },
    "kernelspec": {
      "name": "python3",
      "display_name": "Python 3"
    },
    "language_info": {
      "name": "python"
    }
  },
  "cells": [
    {
      "cell_type": "markdown",
      "source": [
        "# 0. Preparing\n",
        "Install ortools package"
      ],
      "metadata": {
        "id": "44F7Q-eVfSTv"
      }
    },
    {
      "cell_type": "code",
      "source": [
        "%pip install ortools"
      ],
      "metadata": {
        "colab": {
          "base_uri": "https://localhost:8080/"
        },
        "id": "M_pupmw-fLYB",
        "outputId": "7dd3e746-5368-433d-d8ff-d393e573610c"
      },
      "execution_count": 1,
      "outputs": [
        {
          "output_type": "stream",
          "name": "stdout",
          "text": [
            "Requirement already satisfied: ortools in /usr/local/lib/python3.12/dist-packages (9.14.6206)\n",
            "Requirement already satisfied: absl-py>=2.0.0 in /usr/local/lib/python3.12/dist-packages (from ortools) (2.3.1)\n",
            "Requirement already satisfied: numpy>=1.13.3 in /usr/local/lib/python3.12/dist-packages (from ortools) (2.0.2)\n",
            "Requirement already satisfied: pandas>=2.0.0 in /usr/local/lib/python3.12/dist-packages (from ortools) (2.2.2)\n",
            "Requirement already satisfied: protobuf<6.32,>=6.31.1 in /usr/local/lib/python3.12/dist-packages (from ortools) (6.31.1)\n",
            "Requirement already satisfied: typing-extensions>=4.12 in /usr/local/lib/python3.12/dist-packages (from ortools) (4.15.0)\n",
            "Requirement already satisfied: immutabledict>=3.0.0 in /usr/local/lib/python3.12/dist-packages (from ortools) (4.2.1)\n",
            "Requirement already satisfied: python-dateutil>=2.8.2 in /usr/local/lib/python3.12/dist-packages (from pandas>=2.0.0->ortools) (2.9.0.post0)\n",
            "Requirement already satisfied: pytz>=2020.1 in /usr/local/lib/python3.12/dist-packages (from pandas>=2.0.0->ortools) (2025.2)\n",
            "Requirement already satisfied: tzdata>=2022.7 in /usr/local/lib/python3.12/dist-packages (from pandas>=2.0.0->ortools) (2025.2)\n",
            "Requirement already satisfied: six>=1.5 in /usr/local/lib/python3.12/dist-packages (from python-dateutil>=2.8.2->pandas>=2.0.0->ortools) (1.17.0)\n"
          ]
        }
      ]
    },
    {
      "cell_type": "markdown",
      "source": [
        "# 1. Import modules and load the data set"
      ],
      "metadata": {
        "id": "rFDo0RnsfiZL"
      }
    },
    {
      "cell_type": "code",
      "execution_count": 2,
      "metadata": {
        "colab": {
          "base_uri": "https://localhost:8080/",
          "height": 76
        },
        "id": "w8dH416PfEwW",
        "outputId": "d4c70d6d-360e-4954-a80b-f1dc58becbfe"
      },
      "outputs": [
        {
          "output_type": "display_data",
          "data": {
            "text/plain": [
              "<IPython.core.display.HTML object>"
            ],
            "text/html": [
              "\n",
              "     <input type=\"file\" id=\"files-c602ebd2-ef48-4bff-904e-24c462542b44\" name=\"files[]\" multiple disabled\n",
              "        style=\"border:none\" />\n",
              "     <output id=\"result-c602ebd2-ef48-4bff-904e-24c462542b44\">\n",
              "      Upload widget is only available when the cell has been executed in the\n",
              "      current browser session. Please rerun this cell to enable.\n",
              "      </output>\n",
              "      <script>// Copyright 2017 Google LLC\n",
              "//\n",
              "// Licensed under the Apache License, Version 2.0 (the \"License\");\n",
              "// you may not use this file except in compliance with the License.\n",
              "// You may obtain a copy of the License at\n",
              "//\n",
              "//      http://www.apache.org/licenses/LICENSE-2.0\n",
              "//\n",
              "// Unless required by applicable law or agreed to in writing, software\n",
              "// distributed under the License is distributed on an \"AS IS\" BASIS,\n",
              "// WITHOUT WARRANTIES OR CONDITIONS OF ANY KIND, either express or implied.\n",
              "// See the License for the specific language governing permissions and\n",
              "// limitations under the License.\n",
              "\n",
              "/**\n",
              " * @fileoverview Helpers for google.colab Python module.\n",
              " */\n",
              "(function(scope) {\n",
              "function span(text, styleAttributes = {}) {\n",
              "  const element = document.createElement('span');\n",
              "  element.textContent = text;\n",
              "  for (const key of Object.keys(styleAttributes)) {\n",
              "    element.style[key] = styleAttributes[key];\n",
              "  }\n",
              "  return element;\n",
              "}\n",
              "\n",
              "// Max number of bytes which will be uploaded at a time.\n",
              "const MAX_PAYLOAD_SIZE = 100 * 1024;\n",
              "\n",
              "function _uploadFiles(inputId, outputId) {\n",
              "  const steps = uploadFilesStep(inputId, outputId);\n",
              "  const outputElement = document.getElementById(outputId);\n",
              "  // Cache steps on the outputElement to make it available for the next call\n",
              "  // to uploadFilesContinue from Python.\n",
              "  outputElement.steps = steps;\n",
              "\n",
              "  return _uploadFilesContinue(outputId);\n",
              "}\n",
              "\n",
              "// This is roughly an async generator (not supported in the browser yet),\n",
              "// where there are multiple asynchronous steps and the Python side is going\n",
              "// to poll for completion of each step.\n",
              "// This uses a Promise to block the python side on completion of each step,\n",
              "// then passes the result of the previous step as the input to the next step.\n",
              "function _uploadFilesContinue(outputId) {\n",
              "  const outputElement = document.getElementById(outputId);\n",
              "  const steps = outputElement.steps;\n",
              "\n",
              "  const next = steps.next(outputElement.lastPromiseValue);\n",
              "  return Promise.resolve(next.value.promise).then((value) => {\n",
              "    // Cache the last promise value to make it available to the next\n",
              "    // step of the generator.\n",
              "    outputElement.lastPromiseValue = value;\n",
              "    return next.value.response;\n",
              "  });\n",
              "}\n",
              "\n",
              "/**\n",
              " * Generator function which is called between each async step of the upload\n",
              " * process.\n",
              " * @param {string} inputId Element ID of the input file picker element.\n",
              " * @param {string} outputId Element ID of the output display.\n",
              " * @return {!Iterable<!Object>} Iterable of next steps.\n",
              " */\n",
              "function* uploadFilesStep(inputId, outputId) {\n",
              "  const inputElement = document.getElementById(inputId);\n",
              "  inputElement.disabled = false;\n",
              "\n",
              "  const outputElement = document.getElementById(outputId);\n",
              "  outputElement.innerHTML = '';\n",
              "\n",
              "  const pickedPromise = new Promise((resolve) => {\n",
              "    inputElement.addEventListener('change', (e) => {\n",
              "      resolve(e.target.files);\n",
              "    });\n",
              "  });\n",
              "\n",
              "  const cancel = document.createElement('button');\n",
              "  inputElement.parentElement.appendChild(cancel);\n",
              "  cancel.textContent = 'Cancel upload';\n",
              "  const cancelPromise = new Promise((resolve) => {\n",
              "    cancel.onclick = () => {\n",
              "      resolve(null);\n",
              "    };\n",
              "  });\n",
              "\n",
              "  // Wait for the user to pick the files.\n",
              "  const files = yield {\n",
              "    promise: Promise.race([pickedPromise, cancelPromise]),\n",
              "    response: {\n",
              "      action: 'starting',\n",
              "    }\n",
              "  };\n",
              "\n",
              "  cancel.remove();\n",
              "\n",
              "  // Disable the input element since further picks are not allowed.\n",
              "  inputElement.disabled = true;\n",
              "\n",
              "  if (!files) {\n",
              "    return {\n",
              "      response: {\n",
              "        action: 'complete',\n",
              "      }\n",
              "    };\n",
              "  }\n",
              "\n",
              "  for (const file of files) {\n",
              "    const li = document.createElement('li');\n",
              "    li.append(span(file.name, {fontWeight: 'bold'}));\n",
              "    li.append(span(\n",
              "        `(${file.type || 'n/a'}) - ${file.size} bytes, ` +\n",
              "        `last modified: ${\n",
              "            file.lastModifiedDate ? file.lastModifiedDate.toLocaleDateString() :\n",
              "                                    'n/a'} - `));\n",
              "    const percent = span('0% done');\n",
              "    li.appendChild(percent);\n",
              "\n",
              "    outputElement.appendChild(li);\n",
              "\n",
              "    const fileDataPromise = new Promise((resolve) => {\n",
              "      const reader = new FileReader();\n",
              "      reader.onload = (e) => {\n",
              "        resolve(e.target.result);\n",
              "      };\n",
              "      reader.readAsArrayBuffer(file);\n",
              "    });\n",
              "    // Wait for the data to be ready.\n",
              "    let fileData = yield {\n",
              "      promise: fileDataPromise,\n",
              "      response: {\n",
              "        action: 'continue',\n",
              "      }\n",
              "    };\n",
              "\n",
              "    // Use a chunked sending to avoid message size limits. See b/62115660.\n",
              "    let position = 0;\n",
              "    do {\n",
              "      const length = Math.min(fileData.byteLength - position, MAX_PAYLOAD_SIZE);\n",
              "      const chunk = new Uint8Array(fileData, position, length);\n",
              "      position += length;\n",
              "\n",
              "      const base64 = btoa(String.fromCharCode.apply(null, chunk));\n",
              "      yield {\n",
              "        response: {\n",
              "          action: 'append',\n",
              "          file: file.name,\n",
              "          data: base64,\n",
              "        },\n",
              "      };\n",
              "\n",
              "      let percentDone = fileData.byteLength === 0 ?\n",
              "          100 :\n",
              "          Math.round((position / fileData.byteLength) * 100);\n",
              "      percent.textContent = `${percentDone}% done`;\n",
              "\n",
              "    } while (position < fileData.byteLength);\n",
              "  }\n",
              "\n",
              "  // All done.\n",
              "  yield {\n",
              "    response: {\n",
              "      action: 'complete',\n",
              "    }\n",
              "  };\n",
              "}\n",
              "\n",
              "scope.google = scope.google || {};\n",
              "scope.google.colab = scope.google.colab || {};\n",
              "scope.google.colab._files = {\n",
              "  _uploadFiles,\n",
              "  _uploadFilesContinue,\n",
              "};\n",
              "})(self);\n",
              "</script> "
            ]
          },
          "metadata": {}
        },
        {
          "output_type": "stream",
          "name": "stdout",
          "text": [
            "Saving 학급반편성CSP 문제 입력파일.csv to 학급반편성CSP 문제 입력파일.csv\n"
          ]
        }
      ],
      "source": [
        "from ortools.sat.python import cp_model\n",
        "from google.colab import files\n",
        "import pandas as pd\n",
        "import io, os\n",
        "\n",
        "fname = \"학급반편성CSP 문제 입력파일.csv\"\n",
        "sep = \",\"\n",
        "\n",
        "if os.path.exists(fname):\n",
        "  os.remove(fname)\n",
        "uploaded = files.upload()\n",
        "\n",
        "df = pd.read_csv(io.StringIO(\n",
        " uploaded[fname].decode('utf-8')), sep=sep)\n"
      ]
    },
    {
      "cell_type": "markdown",
      "source": [
        "#2. Define the CP model and variables"
      ],
      "metadata": {
        "id": "_amCgxS8glQi"
      }
    },
    {
      "cell_type": "code",
      "source": [
        "model = cp_model.CpModel()\n",
        "\n",
        "NUM_STUDENTS = len(df)  # Number of students (is 200)\n",
        "NUM_CLASSROOMS = 6      # Number of classrooms\n",
        "CLASSROOM_IDS = list(range(NUM_CLASSROOMS))   # Id of the classrooms (0 .. 5)\n",
        "CLASSROOM_SIZES = {0: 33, 1: 33, 2: 33, 3: 33, 4: 34, 5: 34}    # Count of students of each classroom\n",
        "\n",
        "# int : pd.Series\n",
        "students_dict = {row[\"id\"]: row for _, row in df.iterrows()}\n",
        "\n",
        "student_vars = {}\n",
        "for s_id in students_dict.keys():\n",
        "    student_vars[s_id] = model.NewIntVar(\n",
        "        0, NUM_CLASSROOMS - 1, f\"student_{s_id}_class\"\n",
        "    )"
      ],
      "metadata": {
        "id": "TYNqW6PLglDe"
      },
      "execution_count": 3,
      "outputs": []
    },
    {
      "cell_type": "markdown",
      "source": [
        "# 3. Set the constraint"
      ],
      "metadata": {
        "id": "ccktpRu-htBb"
      }
    },
    {
      "cell_type": "code",
      "source": [
        "# Const 0. Students must be assigned filling the size of classrooms\n",
        "assigned_to_class = {}\n",
        "\n",
        "for s_id in students_dict.keys():\n",
        "    assigned_to_class[s_id] = {}\n",
        "\n",
        "    for c_id in CLASSROOM_IDS:\n",
        "        assigned_to_class[s_id][c_id] = model.NewBoolVar(f\"student_{s_id}_in_class_{c_id}\")\n",
        "        # Link student_vars to these boolean variables:\n",
        "        model.Add(student_vars[s_id] == c_id).OnlyEnforceIf(assigned_to_class[s_id][c_id])\n",
        "        model.Add(student_vars[s_id] != c_id).OnlyEnforceIf(assigned_to_class[s_id][c_id].Not())\n",
        "\n",
        "for c_id in CLASSROOM_IDS:\n",
        "    students_in_this_class = [assigned_to_class[s_id][c_id] for s_id in students_dict.keys()]\n",
        "    model.Add(sum(students_in_this_class) == CLASSROOM_SIZES[c_id])"
      ],
      "metadata": {
        "id": "DeJeG3Rmhxjm"
      },
      "execution_count": 4,
      "outputs": []
    },
    {
      "cell_type": "code",
      "source": [
        "# Const 1-A. Students who have bad relationship must be seperated\n",
        "for sid, row in students_dict.items():\n",
        "    if pd.notna(row[\"나쁜관계\"]):\n",
        "        bad_id = str(row[\"나쁜관계\"]).strip()\n",
        "        if bad_id: model.Add(student_vars[sid] != student_vars[int(float(bad_id))])\n",
        "\n",
        "# Const 1-B. Students who have good relationship must be in the same class\n",
        "for sid, row in students_dict.items():\n",
        "    if pd.notna(row[\"좋은관계\"]):\n",
        "        good_id = str(row[\"좋은관계\"]).strip()\n",
        "        if good_id: model.Add(student_vars[sid] == student_vars[int(float(good_id))])"
      ],
      "metadata": {
        "id": "XCj4-DxGeGRt"
      },
      "execution_count": 5,
      "outputs": []
    },
    {
      "cell_type": "code",
      "source": [
        "# Const 2. At least one student who has leadership should be assigned to each class\n",
        "leader_assigned_to_class = {}\n",
        "\n",
        "for s_id in students_dict.keys():\n",
        "    if str(students_dict[s_id][\"Leadership\"]) == \"yes\":\n",
        "        leader_assigned_to_class[s_id] = {}\n",
        "    else: continue\n",
        "\n",
        "    for c_id in CLASSROOM_IDS:\n",
        "        leader_assigned_to_class[s_id][c_id] = model.NewBoolVar(f\"leader_{s_id}_in_class_{c_id}\")\n",
        "        model.Add(student_vars[s_id] == c_id).OnlyEnforceIf(leader_assigned_to_class[s_id][c_id])\n",
        "        model.Add(student_vars[s_id] != c_id).OnlyEnforceIf(leader_assigned_to_class[s_id][c_id].Not())\n",
        "\n",
        "for c_id in CLASSROOM_IDS:\n",
        "    model.Add(sum(leader_assigned_to_class[s_id][c_id] for c_id in CLASSROOM_IDS) > 0)"
      ],
      "metadata": {
        "id": "4M8TqEQdeIde"
      },
      "execution_count": 6,
      "outputs": []
    },
    {
      "cell_type": "code",
      "source": [
        "# Const 3. Students who can play piano must be distributed equally\n",
        "piano_assigned_to_class = {}\n",
        "\n",
        "for s_id in students_dict.keys():\n",
        "    if str(students_dict[s_id][\"Piano\"]) == \"yes\":\n",
        "        piano_assigned_to_class[s_id] = {}\n",
        "    else: continue\n",
        "\n",
        "    for c_id in CLASSROOM_IDS:\n",
        "        piano_assigned_to_class[s_id][c_id] = model.NewBoolVar(f\"piano_{s_id}_in_class_{c_id}\")\n",
        "        model.Add(student_vars[s_id] == c_id).OnlyEnforceIf(piano_assigned_to_class[s_id][c_id])\n",
        "        model.Add(student_vars[s_id] != c_id).OnlyEnforceIf(piano_assigned_to_class[s_id][c_id].Not())\n",
        "\n",
        "min_piano_students_per_class = len(piano_assigned_to_class) // NUM_CLASSROOMS - 1\n",
        "max_piano_students_per_class = len(piano_assigned_to_class) // NUM_CLASSROOMS + 1\n",
        "if min_piano_students_per_class < 1: min_piano_students_per_class = 1\n",
        "\n",
        "for c_id in CLASSROOM_IDS:\n",
        "    model.Add(sum(piano_assigned_to_class[s_id][c_id] for s_id in piano_assigned_to_class) >= min_piano_students_per_class)\n",
        "    model.Add(sum(piano_assigned_to_class[s_id][c_id] for s_id in piano_assigned_to_class) <= max_piano_students_per_class)\n",
        "\n",
        "\n",
        "# Const 4. Minimize the score deviation between the classes...?\n",
        "#          This seems to be an optimization objective\n"
      ],
      "metadata": {
        "id": "rpIMeUlyeKy9"
      },
      "execution_count": 7,
      "outputs": []
    },
    {
      "cell_type": "code",
      "source": [
        "# Const 5. Abscent students should be distributed equally\n",
        "abscence_assigned_to_class = {}\n",
        "\n",
        "for s_id in students_dict.keys():\n",
        "    if str(students_dict[s_id][\"비등교\"]) == \"yes\":\n",
        "        abscence_assigned_to_class[s_id] = {}\n",
        "    else: continue\n",
        "\n",
        "    for c_id in CLASSROOM_IDS:\n",
        "        abscence_assigned_to_class[s_id][c_id] = model.NewBoolVar(f\"abscence_{s_id}_in_class_{c_id}\")\n",
        "        model.Add(student_vars[s_id] == c_id).OnlyEnforceIf(abscence_assigned_to_class[s_id][c_id])\n",
        "        model.Add(student_vars[s_id] != c_id).OnlyEnforceIf(abscence_assigned_to_class[s_id][c_id].Not())\n",
        "\n",
        "min_abscence_students_per_class = len(abscence_assigned_to_class) // NUM_CLASSROOMS - 1\n",
        "max_abscence_students_per_class = len(abscence_assigned_to_class) // NUM_CLASSROOMS + 1\n",
        "\n",
        "for c_id in CLASSROOM_IDS:\n",
        "    model.Add(sum(abscence_assigned_to_class[s_id][c_id] for s_id in abscence_assigned_to_class) >= min_abscence_students_per_class)\n",
        "    model.Add(sum(abscence_assigned_to_class[s_id][c_id] for s_id in abscence_assigned_to_class) <= max_abscence_students_per_class)"
      ],
      "metadata": {
        "id": "B1hmm5gqePtQ"
      },
      "execution_count": 8,
      "outputs": []
    },
    {
      "cell_type": "code",
      "source": [
        "# Const 6. Equalize the sex ratio\n",
        "balance_vars = []\n",
        "for c_id in CLASSROOM_IDS:\n",
        "    boy_count = int(dict(df['sex'].value_counts())['boy'])\n",
        "    girl_count = NUM_STUDENTS - boy_count  # no such sex like attack heli\n",
        "\n",
        "\n",
        "    diff = model.NewIntVar(-NUM_STUDENTS, NUM_STUDENTS, f\"sex_diff_{c_id}\")\n",
        "    abs_diff = model.NewIntVar(0, NUM_STUDENTS, f\"abs_sex_diff_{c_id}\")\n",
        "    model.AddAbsEquality(abs_diff, diff)\n",
        "    model.add(abs_diff <= 1)"
      ],
      "metadata": {
        "id": "cegl23gUeRxg"
      },
      "execution_count": 9,
      "outputs": []
    },
    {
      "cell_type": "code",
      "source": [
        "# Const 7. Student who has good physical ability...\n",
        "phys_assigned_to_class = {}\n",
        "\n",
        "for s_id in students_dict.keys():\n",
        "    if str(students_dict[s_id][\"운동선호\"]) == \"yes\":\n",
        "        phys_assigned_to_class[s_id] = {}\n",
        "    else: continue\n",
        "\n",
        "    for c_id in CLASSROOM_IDS:\n",
        "        phys_assigned_to_class[s_id][c_id] = model.NewBoolVar(f\"phys_{s_id}_in_class_{c_id}\")\n",
        "        model.Add(student_vars[s_id] == c_id).OnlyEnforceIf(phys_assigned_to_class[s_id][c_id])\n",
        "        model.Add(student_vars[s_id] != c_id).OnlyEnforceIf(phys_assigned_to_class[s_id][c_id].Not())\n",
        "\n",
        "min_phys_students_per_class = len(phys_assigned_to_class) // NUM_CLASSROOMS - 1\n",
        "max_phys_students_per_class = len(phys_assigned_to_class) // NUM_CLASSROOMS + 1\n",
        "\n",
        "for c_id in CLASSROOM_IDS:\n",
        "    model.Add(sum(phys_assigned_to_class[s_id][c_id] for s_id in phys_assigned_to_class) >= min_phys_students_per_class)\n",
        "    model.Add(sum(phys_assigned_to_class[s_id][c_id] for s_id in phys_assigned_to_class) <= max_phys_students_per_class)"
      ],
      "metadata": {
        "id": "7kOfuhn9eTU6"
      },
      "execution_count": 10,
      "outputs": []
    },
    {
      "cell_type": "code",
      "source": [
        "# Const 8. Students who were in the same class should be seperated\n",
        "from collections import Counter\n",
        "prev_class_counts = Counter(\n",
        "    [str(s[\"24년 학급\"]).strip()\n",
        "    for s in students_dict.values()\n",
        "    if pd.notna(s[\"24년 학급\"])]\n",
        ")\n",
        "\n",
        "prev_class_dict = {}\n",
        "for c in 'abcdef':\n",
        "    prev_class_dict[c] = {}\n",
        "    for s_id in students_dict.keys():\n",
        "        if str(students_dict[s_id][\"24년 학급\"]).strip() == c:\n",
        "            prev_class_dict[c][s_id] = {}\n",
        "        else: continue\n",
        "\n",
        "        for c_id in CLASSROOM_IDS:\n",
        "            prev_class_dict[c][s_id][c_id] = model.NewBoolVar(f\"{s_id}_prev_class_{c}_in_class_{c_id}\")\n",
        "            model.Add(student_vars[s_id] == c_id).OnlyEnforceIf(prev_class_dict[c][s_id][c_id])\n",
        "            model.Add(student_vars[s_id] != c_id).OnlyEnforceIf(prev_class_dict[c][s_id][c_id].Not())\n",
        "\n",
        "    min_prev_class_students_per_class = prev_class_counts[c] // NUM_CLASSROOMS - 1\n",
        "    max_prev_class_students_per_class = prev_class_counts[c] // NUM_CLASSROOMS + 1\n",
        "\n",
        "    for c_id in CLASSROOM_IDS:\n",
        "        model.Add(sum(prev_class_dict[c][s_id][c_id] for s_id in prev_class_dict[c]) >= min_prev_class_students_per_class)\n",
        "        model.Add(sum(prev_class_dict[c][s_id][c_id] for s_id in prev_class_dict[c]) <= max_prev_class_students_per_class)"
      ],
      "metadata": {
        "id": "sY9fFxsoeUxg"
      },
      "execution_count": 11,
      "outputs": []
    },
    {
      "cell_type": "code",
      "source": [
        "# Const 9. Club members...\n",
        "club_counts = Counter(\n",
        "    [str(s[\"클럽\"]).strip()\n",
        "    for s in students_dict.values()\n",
        "    if pd.notna(s[\"클럽\"])]\n",
        ")\n",
        "\n",
        "club_dict = {}\n",
        "for c in sorted(club_counts):\n",
        "    club_dict[c] = {}\n",
        "    for s_id in students_dict.keys():\n",
        "        if str(students_dict[s_id][\"클럽\"]).strip() == c:\n",
        "            club_dict[c][s_id] = {}\n",
        "        else: continue\n",
        "\n",
        "        for c_id in CLASSROOM_IDS:\n",
        "            club_dict[c][s_id][c_id] = model.NewBoolVar(f\"{s_id}_club_{c}_in_class_{c_id}\")\n",
        "            model.Add(student_vars[s_id] == c_id).OnlyEnforceIf(club_dict[c][s_id][c_id])\n",
        "            model.Add(student_vars[s_id] != c_id).OnlyEnforceIf(club_dict[c][s_id][c_id].Not())\n",
        "\n",
        "    min_club_students_per_class = club_counts[c] // NUM_CLASSROOMS - 1\n",
        "    max_club_students_per_class = club_counts[c] // NUM_CLASSROOMS + 1\n",
        "\n",
        "    for c_id in CLASSROOM_IDS:\n",
        "        model.Add(sum(club_dict[c][s_id][c_id] for s_id in club_dict[c]) >= min_club_students_per_class)\n",
        "        model.Add(sum(club_dict[c][s_id][c_id] for s_id in club_dict[c]) <= max_club_students_per_class)"
      ],
      "metadata": {
        "id": "OshoNKPmeWEa"
      },
      "execution_count": 12,
      "outputs": []
    },
    {
      "cell_type": "markdown",
      "source": [
        "# 4. Satisfy the optimization objective"
      ],
      "metadata": {
        "id": "e5m2rWQilZ21"
      }
    },
    {
      "cell_type": "code",
      "source": [
        "student_scores = {row[\"id\"]: row[\"score\"] for _, row in df.iterrows()}\n",
        "\n",
        "# Calculate the total score for each class\n",
        "classroom_total_scores = {}\n",
        "for c_id in CLASSROOM_IDS:\n",
        "    sum_expr = sum(assigned_to_class[s_id][c_id] * student_scores[s_id]\n",
        "                   for s_id in students_dict)\n",
        "    classroom_total_scores[c_id] = model.NewIntVar(0, sum(student_scores.values()), f\"class_{c_id}_total_score\")\n",
        "    model.Add(classroom_total_scores[c_id] == sum_expr)\n",
        "\n",
        "min_score = model.NewIntVar(0, sum(student_scores.values()), \"min_score\")\n",
        "max_score = model.NewIntVar(0, sum(student_scores.values()), \"max_score\")\n",
        "\n",
        "model.AddMinEquality(min_score, [classroom_total_scores[c_id] for c_id in CLASSROOM_IDS])\n",
        "model.AddMaxEquality(max_score, [classroom_total_scores[c_id] for c_id in CLASSROOM_IDS])\n",
        "\n",
        "\n",
        "model.Minimize(max_score-min_score)"
      ],
      "metadata": {
        "id": "fgB4---Et6Aa"
      },
      "execution_count": 13,
      "outputs": []
    },
    {
      "cell_type": "markdown",
      "source": [
        "# 5. Solve the model"
      ],
      "metadata": {
        "id": "kwKGc7GKvz9l"
      }
    },
    {
      "cell_type": "code",
      "source": [
        "solver = cp_model.CpSolver()\n",
        "solver.parameters.max_time_in_seconds = 60\n",
        "solver.parameters.num_search_workers = 8\n",
        "\n",
        "status = solver.Solve(model)"
      ],
      "metadata": {
        "id": "pZYYUvkkvzON"
      },
      "execution_count": 14,
      "outputs": []
    },
    {
      "cell_type": "markdown",
      "source": [
        "#6. Display the results"
      ],
      "metadata": {
        "id": "d3CW4XCWwGaw"
      }
    },
    {
      "cell_type": "code",
      "source": [
        "if status == cp_model.OPTIMAL or status == cp_model.FEASIBLE:\n",
        "\n",
        "    print(f\"\\nSolution found (Status: {solver.StatusName(status)})\")\n",
        "    print(f\"  - Objective value (Min/Max score difference): {solver.ObjectiveValue()}\")\n",
        "    print(f\"  - Wall time: {solver.WallTime():.2f}s\")\n",
        "    #print(f\"  - Solve time: {solver.ProtoStats().solve_time_in_seconds:.2f}s\")\n",
        "    #'CpSolver' object has no attribute 'ProtoStats'\n",
        "\n",
        "\n",
        "    total_overall_score = sum(student_scores.values())\n",
        "    print(f\"\\nTotal Students: {NUM_STUDENTS}, Total Classrooms: {NUM_CLASSROOMS}\")\n",
        "    print(f\"Overall Average Student Score: {total_overall_score / NUM_STUDENTS:.4f}\")\n",
        "    print(f\"Ideal Students per Class: {NUM_STUDENTS / NUM_CLASSROOMS:.2f}\")\n",
        "    print(f\"Ideal Total Score per Class: {total_overall_score / NUM_CLASSROOMS:.4f}\\n\")\n",
        "\n",
        "    classroom_assignments = {c_id: [] for c_id in CLASSROOM_IDS}\n",
        "    for student_id in students_dict.keys():\n",
        "        assigned_class = solver.Value(student_vars[student_id])\n",
        "        classroom_assignments[assigned_class].append(student_id)\n",
        "\n",
        "    # Display the result of Assignment\n",
        "    new_class_df = pd.DataFrame(columns=['id', 'class'])\n",
        "    for c_id in CLASSROOM_IDS:\n",
        "        students_in_class = classroom_assignments[c_id]\n",
        "        for student_id in students_in_class:\n",
        "            new_class_df = pd.concat([new_class_df, pd.DataFrame({'id': [student_id], 'class': [c_id+1]})], ignore_index=True)\n",
        "    print(f\"\\n\\n:::Result:::\\n{new_class_df}\\n\\n\")\n",
        "\n",
        "\n",
        "    classrooms = {c_id: f\"class_{c_id}\" for c_id in CLASSROOM_IDS}\n",
        "\n",
        "\n",
        "    for c_id in CLASSROOM_IDS:\n",
        "        students_in_class = classroom_assignments[c_id]\n",
        "        class_scores = [student_scores[s_id] for s_id in students_in_class]\n",
        "        num_students = len(students_in_class)\n",
        "        class_total_score = sum(class_scores)\n",
        "        class_avg_score = class_total_score / num_students if num_students > 0 else 0\n",
        "\n",
        "        leadership_student = [s_id for s_id in students_in_class if students_dict[s_id][\"Leadership\"] == \"yes\"]\n",
        "\n",
        "        club_students_dict = {str(s[\"클럽\"]).strip(): [] for _, s in df.iterrows()}\n",
        "        for s_id in students_in_class:\n",
        "            club_students_dict[str(students_dict[s_id][\"클럽\"]).strip()].append(s_id)\n",
        "        for club in club_students_dict:\n",
        "            club_students_dict[club] = len(club_students_dict[club])\n",
        "\n",
        "        prev_class_students_dict = {str(s[\"24년 학급\"]).strip(): [] for _, s in df.iterrows()}\n",
        "        for s_id in students_in_class:\n",
        "            prev_class_students_dict[str(students_dict[s_id][\"24년 학급\"]).strip()].append(s_id)\n",
        "        for prev_class in prev_class_students_dict:\n",
        "            prev_class_students_dict[prev_class] = len(prev_class_students_dict[prev_class])\n",
        "\n",
        "        male_count = sum(1 for s_id in students_in_class if students_dict[s_id][\"sex\"] == \"boy\")\n",
        "        female_count = num_students - male_count\n",
        "\n",
        "\n",
        "\n",
        "        print(f\"-------- Classroom {c_id} --------\")\n",
        "        print(f\"  Number of Students: {num_students}\")\n",
        "        print(f\"  Total Score: {class_total_score}\")\n",
        "        print(f\"  Average Score: {class_avg_score:.2f}\")\n",
        "        print(f\"  Leadership students: {leadership_student}\")\n",
        "        print(f\"  Count of club members: {club_students_dict}\")\n",
        "        print(f\"  Count of prev classes: {prev_class_students_dict}\")\n",
        "        print(f\"  Sex ratio: M {male_count} : {female_count} F\")\n",
        "\n",
        "\n",
        "\n",
        "        # Verify dislike constraint for this class\n",
        "        dislike_violations = []\n",
        "\n",
        "        # Reconstruct disliked pairs from the dataframe for verification\n",
        "        current_class_student_ids = set(students_in_class)\n",
        "        for sid, row in students_dict.items():\n",
        "            if sid in current_class_student_ids and pd.notna(row[\"나쁜관계\"]) and str(row[\"나쁜관계\"]).strip() != \"\":\n",
        "                 bad_list = str(row[\"나쁜관계\"]).split(\",\")\n",
        "                 for bad_id_str in bad_list:\n",
        "                     bad_id_str = bad_id_str.strip()\n",
        "                     if bad_id_str and int(float(bad_id_str)) in current_class_student_ids:\n",
        "                        dislike_violations.append(f\"({sid}, {int(float(bad_id_str))})\")\n",
        "\n",
        "\n",
        "        if dislike_violations:\n",
        "            print(f\"  !!! WARNING: Disliked pairs found in Classroom {c_id}: {', '.join(dislike_violations)}\")\n",
        "\n",
        "\n",
        "        print(\"-\" * 29, end='\\n\\n')\n",
        "\n",
        "\n",
        "\n",
        "else:\n",
        "    print(f\"\\nNo solution found (Status: {solver.StatusName(status)})\")\n",
        "    print(f\"  - Wall time: {solver.WallTime():.2f}s\")\n",
        "    print(\"Consider relaxing some constraints or increasing the time limit.\")"
      ],
      "metadata": {
        "colab": {
          "base_uri": "https://localhost:8080/"
        },
        "id": "Z0-ay5QmwIQG",
        "outputId": "8b1a41b1-bb39-49f5-f5f8-04f6b7361822"
      },
      "execution_count": 15,
      "outputs": [
        {
          "output_type": "stream",
          "name": "stdout",
          "text": [
            "\n",
            "Solution found (Status: OPTIMAL)\n",
            "  - Objective value (Min/Max score difference): 0.0\n",
            "  - Wall time: 12.98s\n",
            "\n",
            "Total Students: 200, Total Classrooms: 6\n",
            "Overall Average Student Score: 78.9300\n",
            "Ideal Students per Class: 33.33\n",
            "Ideal Total Score per Class: 2631.0000\n",
            "\n",
            "\n",
            "\n",
            ":::Result:::\n",
            "         id class\n",
            "0    202505     1\n",
            "1    202509     1\n",
            "2    202512     1\n",
            "3    202513     1\n",
            "4    202519     1\n",
            "..      ...   ...\n",
            "195  202664     6\n",
            "196  202673     6\n",
            "197  202678     6\n",
            "198  202686     6\n",
            "199  202691     6\n",
            "\n",
            "[200 rows x 2 columns]\n",
            "\n",
            "\n",
            "-------- Classroom 0 --------\n",
            "  Number of Students: 33\n",
            "  Total Score: 2631\n",
            "  Average Score: 79.73\n",
            "  Leadership students: [202575, 202589, 202684, 202700]\n",
            "  Count of club members: {'노래': 2, '댄스': 3, '야구': 4, '미술': 5, '밴드': 3, '축구': 4, '코딩': 2, '연극': 5, '봉사': 2, '독서': 3}\n",
            "  Count of prev classes: {'a': 6, 'b': 6, 'c': 6, 'f': 5, 'd': 5, 'e': 5}\n",
            "  Sex ratio: M 24 : 9 F\n",
            "-----------------------------\n",
            "\n",
            "-------- Classroom 1 --------\n",
            "  Number of Students: 33\n",
            "  Total Score: 2631\n",
            "  Average Score: 79.73\n",
            "  Leadership students: [202522, 202592, 202636, 202694]\n",
            "  Count of club members: {'노래': 3, '댄스': 3, '야구': 3, '미술': 4, '밴드': 4, '축구': 3, '코딩': 4, '연극': 3, '봉사': 3, '독서': 3}\n",
            "  Count of prev classes: {'a': 5, 'b': 6, 'c': 6, 'f': 5, 'd': 7, 'e': 4}\n",
            "  Sex ratio: M 25 : 8 F\n",
            "-----------------------------\n",
            "\n",
            "-------- Classroom 2 --------\n",
            "  Number of Students: 33\n",
            "  Total Score: 2631\n",
            "  Average Score: 79.73\n",
            "  Leadership students: [202521, 202545, 202611]\n",
            "  Count of club members: {'노래': 3, '댄스': 2, '야구': 3, '미술': 4, '밴드': 3, '축구': 4, '코딩': 3, '연극': 5, '봉사': 3, '독서': 3}\n",
            "  Count of prev classes: {'a': 6, 'b': 6, 'c': 6, 'f': 6, 'd': 5, 'e': 4}\n",
            "  Sex ratio: M 18 : 15 F\n",
            "-----------------------------\n",
            "\n",
            "-------- Classroom 3 --------\n",
            "  Number of Students: 33\n",
            "  Total Score: 2631\n",
            "  Average Score: 79.73\n",
            "  Leadership students: [202503, 202614]\n",
            "  Count of club members: {'노래': 3, '댄스': 3, '야구': 3, '미술': 4, '밴드': 3, '축구': 4, '코딩': 4, '연극': 4, '봉사': 3, '독서': 2}\n",
            "  Count of prev classes: {'a': 6, 'b': 6, 'c': 6, 'f': 5, 'd': 7, 'e': 3}\n",
            "  Sex ratio: M 23 : 10 F\n",
            "-----------------------------\n",
            "\n",
            "-------- Classroom 4 --------\n",
            "  Number of Students: 34\n",
            "  Total Score: 2631\n",
            "  Average Score: 77.38\n",
            "  Leadership students: [202660, 202687]\n",
            "  Count of club members: {'노래': 2, '댄스': 4, '야구': 3, '미술': 4, '밴드': 4, '축구': 3, '코딩': 3, '연극': 5, '봉사': 3, '독서': 3}\n",
            "  Count of prev classes: {'a': 7, 'b': 6, 'c': 6, 'f': 5, 'd': 5, 'e': 5}\n",
            "  Sex ratio: M 27 : 7 F\n",
            "-----------------------------\n",
            "\n",
            "-------- Classroom 5 --------\n",
            "  Number of Students: 34\n",
            "  Total Score: 2631\n",
            "  Average Score: 77.38\n",
            "  Leadership students: [202542, 202585, 202629, 202657, 202691]\n",
            "  Count of club members: {'노래': 3, '댄스': 4, '야구': 4, '미술': 4, '밴드': 4, '축구': 3, '코딩': 2, '연극': 4, '봉사': 3, '독서': 3}\n",
            "  Count of prev classes: {'a': 6, 'b': 5, 'c': 5, 'f': 6, 'd': 7, 'e': 5}\n",
            "  Sex ratio: M 24 : 10 F\n",
            "-----------------------------\n",
            "\n"
          ]
        }
      ]
    }
  ]
}